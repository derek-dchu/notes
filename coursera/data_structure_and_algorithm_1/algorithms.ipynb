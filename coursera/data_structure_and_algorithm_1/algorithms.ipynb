{
 "cells": [
  {
   "cell_type": "markdown",
   "metadata": {
    "collapsed": true
   },
   "source": [
    "## Integer Multiplication\n",
    "Input: two n-digits numbers x and y  \n",
    "Output: the product x * y\n",
    "\n",
    "### Analysis\n",
    "Karatsuba Multiplication\n",
    "\n",
    "Based on the fact that if we split x, y into four parts 1234 => a = 12, b = 34 and 5678 => c = 56, d = 78, we have:\n",
    "\n",
    "$$x * y = 10^{n}ac + 10^{n/2}(ad+bc) + bd$$\n",
    "\n",
    "Steps\n",
    "1. recursively compute ac\n",
    "2. recursively compute bd\n",
    "3. recursively compute (a+b)(c+d)\n",
    "4. Gauss's trick: (a+b)(c+d) - ac - bd = ad + bc (reduce from 4 recursive call to 3)"
   ]
  },
  {
   "cell_type": "code",
   "execution_count": 7,
   "metadata": {
    "collapsed": false
   },
   "outputs": [
    {
     "name": "stdout",
     "output_type": "stream",
     "text": [
      "1234332255167541\n"
     ]
    }
   ],
   "source": [
    "x = '5678'\n",
    "y = '1234'\n",
    "\n",
    "def mul(x, y):\n",
    "    if len(x) <= 2 or len(y) <= 2:\n",
    "        return str(int(x)*int(y))\n",
    "    \n",
    "    mid_x = len(x) // 2\n",
    "    mid_y = len(y) // 2\n",
    "    a = x[:mid_x]\n",
    "    b = x[mid_x:]\n",
    "    c = y[:mid_y]\n",
    "    d = y[mid_y:]\n",
    "    ac = mul(a,c)\n",
    "    bd = mul(b,d)\n",
    "    return add(ac+'0'*len(x), add(mul(add(a,b),add(c,d)),'-'+ac,'-'+bd)+'0'*mid_x, bd)\n",
    "    \n",
    "def add(*vargs):\n",
    "    s = 0\n",
    "    for i in vargs:\n",
    "        if len(i) != 0:\n",
    "            s += int(i)\n",
    "    return str(s)\n",
    "            \n",
    "assert mul(x,y) == '7006652'"
   ]
  },
  {
   "cell_type": "code",
   "execution_count": null,
   "metadata": {
    "collapsed": true
   },
   "outputs": [],
   "source": []
  }
 ],
 "metadata": {
  "kernelspec": {
   "display_name": "Python 3",
   "language": "python",
   "name": "python3"
  },
  "language_info": {
   "codemirror_mode": {
    "name": "ipython",
    "version": 3
   },
   "file_extension": ".py",
   "mimetype": "text/x-python",
   "name": "python",
   "nbconvert_exporter": "python",
   "pygments_lexer": "ipython3",
   "version": "3.4.2"
  }
 },
 "nbformat": 4,
 "nbformat_minor": 0
}
